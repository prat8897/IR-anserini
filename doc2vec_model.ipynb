{
 "cells": [
  {
   "cell_type": "code",
   "execution_count": 1,
   "metadata": {},
   "outputs": [],
   "source": [
    "import pandas as pd\n",
    "import numpy as np\n",
    "import dask.dataframe as dd\n",
    "\n",
    "import os\n",
    "import gensim\n",
    "\n",
    "import warnings\n",
    "warnings.filterwarnings(\"ignore\")"
   ]
  },
  {
   "cell_type": "code",
   "execution_count": 2,
   "metadata": {},
   "outputs": [],
   "source": [
    "q_tr=pd.read_table('queries.doctrain.tsv', header=None)\n",
    "q_tr.columns=['query_id','query_text']\n",
    "\n",
    "#long queries\n",
    "q_tr['len']=q_tr['query_text'].apply(lambda x: 1 if len(x) > 110 else np.nan)\n",
    "\n",
    "#short queries\n",
    "#q_tr['len']=q_tr['query_text'].apply(lambda x: 1 if len(x) > 25 and len(x) < 35 else np.nan)\n",
    "\n",
    "q_tr=q_tr.dropna()\n",
    "queries=q_tr.reset_index(drop=True).tail(400)"
   ]
  },
  {
   "cell_type": "code",
   "execution_count": 3,
   "metadata": {},
   "outputs": [],
   "source": [
    "top100=pd.read_table('msmarco-doctrain-top100', delimiter=' ', header=None)\n",
    "top100.columns=['query_id','f2','doc_id','rank','f5','f6']\n",
    "ranked100=top100[top100['query_id'].isin(queries['query_id'].unique())].reset_index(drop=True)"
   ]
  },
  {
   "cell_type": "code",
   "execution_count": 4,
   "metadata": {},
   "outputs": [],
   "source": [
    "rel=list(range(1,51))\n",
    "ranked100['rel']=ranked100['rank'].apply(lambda x: 1 if x in rel else np.nan)\n",
    "related_top50=ranked100.dropna()"
   ]
  },
  {
   "cell_type": "code",
   "execution_count": 5,
   "metadata": {},
   "outputs": [],
   "source": [
    "all_texts=dd.read_table('msmarco-docs.tsv', blocksize=100e6, header=None)\n",
    "all_texts.columns=['doc_id','f2','title','text']"
   ]
  },
  {
   "cell_type": "code",
   "execution_count": 6,
   "metadata": {},
   "outputs": [],
   "source": [
    "def create_corpus(res):\n",
    "    unique_doc_id=res['doc_id'].unique()\n",
    "    condition=all_texts['doc_id'].isin(unique_doc_id)\n",
    "    corpus=all_texts[condition].reset_index(drop=True)\n",
    "    corpus=corpus.drop(columns='f2')\n",
    "    return corpus\n",
    "\n",
    "training_corpus=create_corpus(related_top50).compute()"
   ]
  },
  {
   "cell_type": "code",
   "execution_count": 7,
   "metadata": {},
   "outputs": [],
   "source": [
    "data = training_corpus.values.tolist()\n",
    "cleaned_data = [x for x in data if str(x[2]) != 'nan']\n",
    "ids = [x[0] for x in cleaned_data]\n",
    "texts = [x[2] for x in cleaned_data]\n",
    "enum_data = enumerate(texts)"
   ]
  },
  {
   "cell_type": "code",
   "execution_count": 8,
   "metadata": {},
   "outputs": [],
   "source": [
    "def read_corpus(enum_data):\n",
    "    for i, line in enum_data:\n",
    "        tokens = gensim.utils.simple_preprocess(line)\n",
    "        yield gensim.models.doc2vec.TaggedDocument(tokens, [i])"
   ]
  },
  {
   "cell_type": "code",
   "execution_count": 9,
   "metadata": {},
   "outputs": [],
   "source": [
    "model = gensim.models.doc2vec.Doc2Vec(vector_size=70, min_count=3, epochs=40)"
   ]
  },
  {
   "cell_type": "code",
   "execution_count": 10,
   "metadata": {},
   "outputs": [],
   "source": [
    "corpus = list(read_corpus(enum_data))\n",
    "model.build_vocab(corpus)"
   ]
  },
  {
   "cell_type": "code",
   "execution_count": 11,
   "metadata": {},
   "outputs": [],
   "source": [
    "model.train(corpus, total_examples=model.corpus_count, epochs=model.epochs)"
   ]
  },
  {
   "cell_type": "code",
   "execution_count": 12,
   "metadata": {},
   "outputs": [
    {
     "data": {
      "text/plain": [
       "[('D3135781',\n",
       "  'Question and answer Q: The microscopic organisms at the base of the marine food chain are known as A. plant life. B. terrestrial animals. C. primitive life. D. phytoplankton. A: The microscopic organisms at the base of the marine food chain are known as Phytoplankton. Get an answer Search for an answer or ask Weegy (Free)The microscopic organisms at the base of the marine food chain are known as A. plant life. B. terrestrial animals. C. primitive life. D. phytoplankton. '),\n",
       " ('D3135779',\n",
       "  'High School Biology 5 points The microscopic organisms at the base of the marine food chain are known as a. primitive life. b. plant life. c. terrestrial animals. d. phytoplankton. Ask for details Follow Reportby Bosq Kemilosbeccarl 02/26/2016Only registered members have access to verified answers Join now Answers Brainly User They are known as phytoplankton. Comments Report4.8 12 votes Thanks 18 '),\n",
       " ('D2854281',\n",
       "  'In colonial America, an aim of British mercantile policy was to force American merchants tosell more raw materials to countries other than Englandprovide raw materials to England onlycompete with England for overseas marketsproduce all their own manufactured goods The need for agricultural workers in the Southern colonies led to theformation of labor unionsdecision to industrializeuse of enslaved people from Africa The belief that colonies exist to benefit the economy of the mother country is known astriangular trademercantilismfree tradenativism The original 13 colonies were primarily located along the Atlantic Ocean Gulf of Mexico Mississippi River Great Lakes The main reason most of the early settlers came to the colonies of Maryland, Massachusetts, Pennsylvania and Rhode Island was toseek religious freedompurchase inexpensive farm landprofit from the fur tradeobtain better jobs In the 13 colonies, voting rights were limited tocolonists born in Americamen who owned propertywomen who could read and writepeople who had come from England Which religious group is correctly paired with the colony its members helped establish? Puritans-Georgia Quakers-Pennsylvania Pilgrims-Virginia Catholics-Rhode Island Which cash crop is credited with helping the Jamestown colony to survive?tobaccoricesugargrain In which area did good harbors, abundant forests, rocky soil and a short growing season most influence the colonial economy? Southern Colonies Middle Colonies New England Colonies The Quakers believed thatnobles were better than all other settlersa strong military was necessary for peaceall people were equal The colony of Georgia was founded by Lord Baltimore James Oglethorpe Roger Williams Thomas Hooker Puritans from Massachusetts founded Connecticut because theyfelt the Massachusetts government was too powerfulfelt the Massachusetts government was not powerful enoughpracticed a religion different from others in Massachusettsbelieved in religious toleration Which colonies were known as the Breadbasket Colonies? New England Colonies Middle Colonies Southern Colonies As a result of the Great Awakening,public schools were opened in the South Catholics gained religious freedommany churches were destroyedmany new churches were started English people who could not afford passage to America came asindentured servantsslavestobacco farmersinvestors A colonial document extending voting rights to non-church members was the Mayflower Compact Act of Toleration Fundamental Orders of Connecticut Quaker Pact The names of the Middle Colonies were New York, New Jersey, Pennsylvania and Maryland New York, New Jersey, Pennsylvania and Delaware Rhode Island, New Hampshire, Connecticut, Massachusetts South Carolina, North Carolina, Virginia, Georgia Taking slaves from Africa to the West Indies was part of thetriangular tradecolonial smuggling operationswork of piratesway New England avoided having many slaves Settlers in the Middle Colonies created a society thatsupported local artisanswas mainly urbanwas ethnically diversesettled people by family groups Which Enlightenment thinker believed that all people were born with rights of life, liberty and property? Ben Franklin Jonathan Edwards John Locke Alicia Keys The last Reds pitcher to pitch a no-hitter was Roy Halladay Bronson Arroyo Homer Bailey Tom Browning '),\n",
       " ('D2874550',\n",
       "  \"Answers.com ® Wiki Answers ® Categories History, Politics & Society History History of the United States Colonial America The thirteen colonies were colonies of what country? Flag The thirteen colonies were colonies of what country? Answer by Steve Hampton Confidence votes 4.2KThe thirteen colonies in North America that became the first 13 states of the United States, were colonies of the English Crown. Following the landing of John Cabot in North America in 1497, the English monarchy was determined to colonize the New World. In 1607 they founded Jamestown (in modern Virginia), which marked the establishment of the first colony. In 1732, the colony of Georgia (named after King George II) became the last of the 13 colonies to be founded.13 people found this useful Was this answer useful? Yes Somewhat No Bou gus 806 Contributions What country governed the thirteen colonies? Great Britain Navar 4 Contributions What was the mother country of the thirteen original colonies? The mother country of the thirteen original colonies was Great Britain. Which are the thirteen colonies? Maine/ Massachusetts, New Hamphire, Rhode Island, Conneticut, new York, New jersey, Pennsylvania, Delaware, Maryland, Viginia, North Carolina, South Carolina, Geogia. Hope thi …Laila Marie 181,493 Contributions The thirteen colonies where colonies of what country? The original founders of the colonies came from England. They are now part of the USA. They were Connecticut, Delaware, Georgia, Maryland, Massachusetts, New Hampshire, New Je …Chakatz 134 Contributions What European country ruled the thirteen colonies?\\\\n England Why there are thirteen colonies?the 13 colonies are colonies of british colonists who made colonies allong the eastern coast of America and Canada. Shiela Jumper 1 Contribution Why are the thirteen colonies called the thirteen colonies? There's good information on this site: http://londonlady.hubpages.com/hub/Was-the-Declaration-of-Independence-Justified What was the second colony of the thirteen colonies? Virginia Why are the thirteen colonies the thirteen colonies?because there were 13 colonies established in the Americas What was the third colony of the thirteen colonies? New HAmpshire What was the country of the thirteen colonies?britain was What are the thirteen colonies for? THE ANSWER- I SEARCHED IT--During the years 1740 to 1770 the tension between England and the 13 colonies grew into a full scale war. Suffering from unjust taxation and tyranni …Answered In Colonial America What country was thirteen colonies a part of? The thirteen colonies was part of North America. Answers Publisher 49,340 Contributions Answered In Colonial America What were the Thirteen Colonies? The original Thirteen Colonies were Connecticut, Delaware, Georgia, Maryland, Massachusetts, New Hampshire, New Jersey, New York, North Carolina, Pennsylvania, Rhode …Squirrel Man 234,785 Contributions Answered In History of the United States What is the country of the thirteen colonies? The thirteen original colonies were founded within the United States (although not named that as of the colonization period). Nick Allsop 96 Contributions Answered In History of the United States The thirteen colonies were colonies of what country-? Before the United States, or in this case, the Thirteen Coloniesbecame their own country, the United Kingdom owned what would beconsidered the territory of the Colonies before …Answered In Uncategorized Are the thirteen colonies?massetchusets hugtf \"),\n",
       " ('D3135782',\n",
       "  'Science & Mathematics Botany The microscopic organisms at the base of the marine food chain are known as? A. phytoplankton. B. terrestrial animals. C. plant life. D. primitive life. Follow 4 answers Answers Relevance Rating Newest Oldest Best Answer: Phytoplankton That Guy · 5 years ago6 0 Comment A, Is this a test of some sort? Hola · 5 years ago0 5 Comment A -= plancton Tiburon · 5 years ago1 1 Comment Alorraynew · 3 years ago1 0 Comment Maybe you would like to learn more about one of these? Try online nursing courses? Masters of marketing online Interested in dating sites? Consolidate Your Student Loans ')]"
      ]
     },
     "execution_count": 12,
     "metadata": {},
     "output_type": "execute_result"
    }
   ],
   "source": [
    "def get_most_similar(query):\n",
    "    inferred_vector = model.infer_vector(gensim.utils.simple_preprocess(query))\n",
    "    return model.docvecs.most_similar([inferred_vector], topn=len(model.docvecs))\n",
    "\n",
    "top5Example = [(ids[x[0]], texts[x[0]]) for x in get_most_similar('which of the following were terms of the treaty of versailles?germany was occupied by allied troops.germany paid reparations.germany accepted sole responsibility for world war i.german territory was reduced in size.')[:5]]\n",
    "top5Example"
   ]
  },
  {
   "cell_type": "code",
   "execution_count": 13,
   "metadata": {},
   "outputs": [],
   "source": [
    "def get_average_precision(query_id):\n",
    "    query = queries['query_text'].loc[queries['query_id'] == query_id].values[0]\n",
    "    most_similar = get_most_similar(query)\n",
    "    top20 = [ids[x[0]] for x in most_similar[:20]]\n",
    "\n",
    "    related_docs = related_top50['doc_id'].loc[related_top50['query_id'] == query_id].values\n",
    "    is_related = [int(x in related_docs) for x in top20]\n",
    "\n",
    "    precision = []\n",
    "    for i in range(0,20):\n",
    "        if is_related[i]:\n",
    "            precision.append(np.sum(is_related[:i+1])/(i + 1))\n",
    "    return np.mean(precision)"
   ]
  },
  {
   "cell_type": "code",
   "execution_count": 14,
   "metadata": {},
   "outputs": [
    {
     "data": {
      "text/plain": [
       "0.5593255918600186"
      ]
     },
     "execution_count": 14,
     "metadata": {},
     "output_type": "execute_result"
    }
   ],
   "source": [
    "MAP=queries['query_id'].apply(lambda x: get_average_precision(x)).mean()\n",
    "MAP"
   ]
  }
 ],
 "metadata": {
  "kernelspec": {
   "display_name": "Python 3",
   "language": "python",
   "name": "python3"
  },
  "language_info": {
   "codemirror_mode": {
    "name": "ipython",
    "version": 3
   },
   "file_extension": ".py",
   "mimetype": "text/x-python",
   "name": "python",
   "nbconvert_exporter": "python",
   "pygments_lexer": "ipython3",
   "version": "3.8.6"
  }
 },
 "nbformat": 4,
 "nbformat_minor": 4
}
